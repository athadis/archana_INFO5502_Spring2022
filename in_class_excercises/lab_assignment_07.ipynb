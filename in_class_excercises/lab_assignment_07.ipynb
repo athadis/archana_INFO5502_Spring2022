{
  "cells": [
    {
      "cell_type": "markdown",
      "metadata": {
        "id": "view-in-github",
        "colab_type": "text"
      },
      "source": [
        "<a href=\"https://colab.research.google.com/github/athadis/archana_INFO5502_Spring2022/blob/main/in_class_excercises/lab_assignment_07.ipynb\" target=\"_parent\"><img src=\"https://colab.research.google.com/assets/colab-badge.svg\" alt=\"Open In Colab\"/></a>"
      ]
    },
    {
      "cell_type": "markdown",
      "metadata": {
        "id": "fHPu6CImM2_t"
      },
      "source": [
        "## The seventh Lab-assignment (03/31/2022, 50 points in total)"
      ]
    },
    {
      "cell_type": "markdown",
      "metadata": {
        "id": "mBUJHlo6M2_1"
      },
      "source": [
        "The purpose of this exercise is to build several regression models based on real-world datasets. "
      ]
    },
    {
      "cell_type": "markdown",
      "metadata": {
        "id": "ysGRM8JDM2_4"
      },
      "source": [
        "### Question 1 (25 points) Build a regession model to predict the change in price of the stock overtime. It can either be linear regression or non-linear regression. You can download the dataset from here: https://github.com/unt-iialab/info5502-spring2022/blob/main/datasets/portfolio_data.csv. The implementation of the LSTM on this same dataset was posted here as an reference: https://www.kaggle.com/code/faressayah/stock-market-analysis-prediction-using-lstm/notebook"
      ]
    },
    {
      "cell_type": "code",
      "execution_count": 20,
      "metadata": {
        "colab": {
          "base_uri": "https://localhost:8080/",
          "height": 367
        },
        "id": "xscCaZ7HM2_7",
        "outputId": "8f923000-7d37-460c-d9e7-7ccb20f6608b"
      },
      "outputs": [
        {
          "output_type": "display_data",
          "data": {
            "text/plain": [
              "<Figure size 432x288 with 4 Axes>"
            ],
            "image/png": "[encoded data removed]"
          },
          "metadata": {
            "needs_background": "light"
          }
        },
        {
          "output_type": "stream",
          "name": "stdout",
          "text": [
            "Amzn linear model score is  0.8711189934169932\n",
            "DPZ linear model score is  0.9312098297726329\n",
            "BTC linear model score is  0.4807490825794034\n",
            "NFLX linear model score is  0.8127761232849322\n"
          ]
        }
      ],
      "source": [
        "from datetime import datetime\n",
        "import matplotlib.pyplot as plt\n",
        "import numpy as np\n",
        "import pandas\n",
        "from sklearn.linear_model import LinearRegression \n",
        "\n",
        "portfolio_df=pandas.read_csv(\"portfolio_data.csv\")\n",
        "\n",
        "portfolio_df.describe()\n",
        "\n",
        "portfolio_df['TotalDays']=portfolio_df.apply(lambda row: (datetime.strptime(row['Date'],'%m/%d/%Y')-datetime(1970,1,1)).days, axis=1) # generating totalSeconds column to use for regression\n",
        "\n",
        "test_df=pandas.DataFrame(columns=['Date','TotalDays'])\n",
        "test_df['Date']=np.array(pandas.date_range(portfolio_df['Date'].max(),datetime.now()))\n",
        "test_df['TotalDays']=test_df.apply(lambda row: (row['Date']-datetime(1970,1,1)).days, axis=1)\n",
        "\n",
        "#using linear regression to fit models\n",
        "x_train=portfolio_df[['TotalDays']]\n",
        "\n",
        "amazon_model=LinearRegression()\n",
        "dominos_model= LinearRegression()\n",
        "btc_model = LinearRegression()\n",
        "netflix_model= LinearRegression()\n",
        "\n",
        "amazon_model.fit(x_train, portfolio_df[['AMZN']])\n",
        "dominos_model.fit(x_train,portfolio_df[['DPZ']])\n",
        "btc_model.fit(x_train,portfolio_df[['BTC']])\n",
        "netflix_model.fit(x_train,portfolio_df[['NFLX']])\n",
        "\n",
        "x_test=test_df[['TotalDays']]\n",
        "\n",
        "#Plot 1\n",
        "amzn_pred=amazon_model.predict(x_test)\n",
        "plt.subplot(2,2,1)\n",
        "plt.xlabel('Time Series')\n",
        "plt.ylabel('Stock price')\n",
        "plt.title('Amzn')\n",
        "plt.plot(x_test,amzn_pred)\n",
        "\n",
        "#Plot 2\n",
        "dpz_pred=btc_model.predict(x_test)\n",
        "plt.subplot(2,2,2)\n",
        "plt.xlabel('Time Series')\n",
        "plt.ylabel('Stock price')\n",
        "plt.title('DPZ')\n",
        "plt.plot(x_test,dpz_pred)\n",
        "\n",
        "#Plot 3\n",
        "btc_pred=btc_model.predict(x_test)\n",
        "plt.subplot(2,2,3)\n",
        "plt.xlabel('Time Series')\n",
        "plt.ylabel('Stock price')\n",
        "plt.title('Btc')\n",
        "plt.plot(x_test,btc_pred)\n",
        "\n",
        "#Plot 4\n",
        "netflix_pred=netflix_model.predict(x_test)\n",
        "plt.subplot(2,2,4)\n",
        "plt.xlabel('Time Series')\n",
        "plt.ylabel('Stock price')\n",
        "plt.title('Nflx')\n",
        "plt.plot(x_test,netflix_pred)\n",
        "\n",
        "plt.tight_layout()\n",
        "plt.show()\n",
        "\n",
        "#calculating scores of the models\n",
        "print('Amzn linear model score is ',amazon_model.score(x_train, portfolio_df[['AMZN']]))\n",
        "print('DPZ linear model score is ', dominos_model.score(x_train,portfolio_df[['DPZ']]))\n",
        "print('BTC linear model score is ',btc_model.score(x_train,portfolio_df[['BTC']]))\n",
        "print('NFLX linear model score is ',netflix_model.score(x_train,portfolio_df[['NFLX']]))\n"
      ]
    },
    {
      "cell_type": "markdown",
      "metadata": {
        "id": "g5NvePBKM2__"
      },
      "source": [
        "### Question 2 (25 points) The objective of this task is to detect hate speech in tweets. For the sake of simplicity, we say a tweet contains hate speech if it has a racist or sexist sentiment associated with it. So, the task is to classify racist or sexist tweets from other tweets. Formally, given a training sample of tweets and labels, where label '1' denotes the tweet is racist/sexist and label '0' denotes the tweet is not racist/sexist, your objective is to predict the labels on the test dataset. The dataset can be downloaded here: https://github.com/unt-iialab/info5502-spring2022/tree/main/datasets/Twitter%20Sentiment%20Analysis. Please build a logistic regression model for the classification, evaluation metrics include accuracy, precision, recall, and F-1 score need to be reported. "
      ]
    },
    {
      "cell_type": "code",
      "execution_count": 19,
      "metadata": {
        "id": "vr-6jVmZM3AB",
        "colab": {
          "base_uri": "https://localhost:8080/"
        },
        "outputId": "522845a1-9e7d-46b3-bd48-722457381a70"
      },
      "outputs": [
        {
          "output_type": "stream",
          "name": "stdout",
          "text": [
            "[nltk_data] Downloading package stopwords to /root/nltk_data...\n",
            "[nltk_data]   Package stopwords is already up-to-date!\n",
            "Accuracy is  0.9298542018647143\n",
            "Precision,recall, f-1 score is  (array([0.9298542, 0.       ]), array([1., 0.]), array([0.96365228, 0.        ]), array([29720,  2242]))\n"
          ]
        },
        {
          "output_type": "stream",
          "name": "stderr",
          "text": [
            "/usr/local/lib/python3.7/dist-packages/sklearn/utils/validation.py:993: DataConversionWarning: A column-vector y was passed when a 1d array was expected. Please change the shape of y to (n_samples, ), for example using ravel().\n",
            "  y = column_or_1d(y, warn=True)\n",
            "/usr/local/lib/python3.7/dist-packages/sklearn/metrics/_classification.py:1318: UndefinedMetricWarning: Precision and F-score are ill-defined and being set to 0.0 in labels with no predicted samples. Use `zero_division` parameter to control this behavior.\n",
            "  _warn_prf(average, modifier, msg_start, len(result))\n"
          ]
        }
      ],
      "source": [
        "import pandas\n",
        "import re\n",
        "import nltk\n",
        "import string\n",
        "import re\n",
        "import numpy as np\n",
        "\n",
        "\n",
        "from nltk.corpus import stopwords\n",
        "from nltk.tokenize import TweetTokenizer\n",
        "from sklearn.linear_model import LogisticRegression\n",
        "from sklearn.metrics import confusion_matrix,f1_score,accuracy_score,classification_report\n",
        "\n",
        "from sklearn.feature_extraction.text import CountVectorizer\n",
        "from sklearn.metrics import precision_recall_fscore_support\n",
        "\n",
        "\n",
        "nltk.download('stopwords')\n",
        "stemmer = nltk.SnowballStemmer(\"english\")\n",
        "\n",
        "stop_words=stopwords.words('english')\n",
        "\n",
        "def process_tweet(tweet):\n",
        "  result=str(tweet).lower()\n",
        "  result=re.sub(r'@user','',result) #removing repetitive '@user' from tweets\n",
        "  result = re.sub('\\[.*?\\]', '', result)\n",
        "  result = re.sub('https?://\\S+|www\\.\\S+', '', result)\n",
        "  result = re.sub('<.*?>+#', '', result)\n",
        "  result = re.sub('[%s]' % re.escape(string.punctuation), '', result)\n",
        "  result = re.sub('\\n', '', result)\n",
        "  result = re.sub('\\w*\\d\\w*', '', result)\n",
        "  tokenizer = TweetTokenizer(preserve_case=False, reduce_len=True, strip_handles=True)\n",
        "  result= tokenizer.tokenize(result) #tokenizes tweet into words\n",
        "  result = [word for word in result if word not in stop_words]\n",
        "  result = [stemmer.stem(word) for word in result] \n",
        "  \n",
        "  return result\n",
        "\n",
        "train_df=pandas.read_csv('train.csv')\n",
        "\n",
        "train_df.describe()\n",
        "train_df['tweet']=train_df['tweet'].apply(process_tweet)\n",
        "\n",
        "processed_train = np.append(np.ones((len(train_df[train_df['label'] == 1]), 1)), np.zeros((len(train_df[train_df['label']==0]), 1)), axis=0)\n",
        "\n",
        "model= LogisticRegression()\n",
        "model.fit(processed_train,train_df[['label']])\n",
        "\n",
        "#---------------------\n",
        "test_df=pandas.read_csv('test.csv')\n",
        "\n",
        "test_df.describe()\n",
        "\n",
        "test_df[['tweet']]=test_df[['tweet']].apply(process_tweet)\n",
        "processed_test = np.ones((len(test_df), 1))\n",
        "\n",
        "y_predict=model.predict(processed_test)\n",
        "\n",
        "print('Accuracy is ', model.score(processed_train,train_df[['label']]))\n",
        "print('Precision,recall, f-1 score is ',precision_recall_fscore_support(train_df[['label']],model.predict(processed_train)))\n"
      ]
    }
  ],
  "metadata": {
    "kernelspec": {
      "display_name": "Python 3",
      "language": "python",
      "name": "python3"
    },
    "language_info": {
      "codemirror_mode": {
        "name": "ipython",
        "version": 3
      },
      "file_extension": ".py",
      "mimetype": "text/x-python",
      "name": "python",
      "nbconvert_exporter": "python",
      "pygments_lexer": "ipython3",
      "version": "3.8.5"
    },
    "colab": {
      "name": "lab_assignment_07.ipynb",
      "provenance": [],
      "collapsed_sections": [],
      "include_colab_link": true
    }
  },
  "nbformat": 4,
  "nbformat_minor": 0
}