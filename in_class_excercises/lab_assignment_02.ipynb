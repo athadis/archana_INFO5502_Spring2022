{
  "cells": [
    {
      "cell_type": "markdown",
      "metadata": {
        "id": "view-in-github",
        "colab_type": "text"
      },
      "source": [
        "<a href=\"https://colab.research.google.com/github/athadis/archana_INFO5502_Spring2022/blob/main/in_class_excercises/lab_assignment_02.ipynb\" target=\"_parent\"><img src=\"https://colab.research.google.com/assets/colab-badge.svg\" alt=\"Open In Colab\"/></a>"
      ]
    },
    {
      "cell_type": "markdown",
      "metadata": {
        "id": "Ryk8D1Q4Wsrp"
      },
      "source": [
        "# **The second Lab-assignment (02/04/2022, 50 points in total)**"
      ]
    },
    {
      "cell_type": "markdown",
      "metadata": {
        "id": "90_NR8c5XGWc"
      },
      "source": [
        "# Question 1\n",
        "\n",
        "(5 points). Write a Python program to generate 12 random numbers between 1 and 100. Sort the list of numbers in ascending order and print it out. Sort the list of numbers in descending order and print it out. Calculate the average for the group and print it out."
      ]
    },
    {
      "cell_type": "code",
      "execution_count": 105,
      "metadata": {
        "colab": {
          "base_uri": "https://localhost:8080/"
        },
        "id": "5QX6bJjGWXY9",
        "outputId": "e21c1076-210d-46de-cdfa-4e99b86a7617"
      },
      "outputs": [
        {
          "output_type": "stream",
          "name": "stdout",
          "text": [
            "random numbers  [82, 47, 53, 30, 56, 28, 18, 78, 83, 64, 40, 59]\n",
            "numbers in ascending order  [18, 28, 30, 40, 47, 53, 56, 59, 64, 78, 82, 83]\n",
            "numbers in descending order  [83, 82, 78, 64, 59, 56, 53, 47, 40, 30, 28, 18]\n",
            "average for group  53.166666666666664\n"
          ]
        }
      ],
      "source": [
        "import random\n",
        "import statistics\n",
        "\n",
        "x = random.sample(range(1,100),12)\n",
        "print(\"random numbers \",x)\n",
        "\n",
        "x.sort()\n",
        "print(\"numbers in ascending order \",x)\n",
        "\n",
        "x.sort(reverse=True)\n",
        "print(\"numbers in descending order \",x)\n",
        "\n",
        "statistics.mean(x)\n",
        "print(\"average for group \",statistics.mean(x))\n"
      ]
    },
    {
      "cell_type": "markdown",
      "metadata": {
        "id": "1F_PZdH9Sh49"
      },
      "source": [
        "# Question 2\n",
        "(20 points). Write a program that will do the following string formatting tasks:\n",
        "\n",
        "(1) Ask the user to enter two sentences.\n",
        "\n",
        "(2) Make each sentence into a list. Each element in the list should correspond to a word in the sentence. For example, if the sentence is \"Alas! Am I alive? This is my first python program\", the program should print out ['Alas, '!', 'Am', 'I', 'alive, '?', 'This', 'is', 'my', 'first', 'python', 'program'].\n",
        "\n",
        "(3) Compare the two sentences. Print out a list of words that occur in both sentences.\n",
        "\n",
        "(4) Remove any punctuation from the sentence and print it back out. It should remove at least the following characters, but it can remove more: period(“.”), comma (“,”), semicolon (“;”), and colon (“:”)\n",
        "\n",
        "(5) Count the number of vowels in the sentences. Print out each vowel and the number of times it appears in the sentences, such as: a:2, e:1, i:0, etc"
      ]
    },
    {
      "cell_type": "code",
      "execution_count": 106,
      "metadata": {
        "id": "Y0oOSlsOS0cq",
        "colab": {
          "base_uri": "https://localhost:8080/"
        },
        "outputId": "5d847d67-6063-4903-9663-f4904c4ebaab"
      },
      "outputs": [
        {
          "output_type": "stream",
          "name": "stdout",
          "text": [
            "please enter sentence1:\n",
            "my name is Archana, Thadisina!\n",
            "please enter sentence2:\n",
            "my last is Thadisina.\n",
            "sentence1 list is ['my', 'name', 'is', 'Archana', ',', 'Thadisina', '!']\n",
            "sentence2 list is ['my', 'last', 'is', 'Thadisina', '.']\n",
            "words common in both sentences ['is', 'my', 'Thadisina']\n",
            "sentence1 without punctuations:  my name is Archana Thadisina\n",
            "sentence2 without punctuations:  my last is Thadisina\n",
            "sentence1 vowels count is {'a': 6, 'e': 1, 'i': 3, 'o': 0, 'u': 0}\n",
            "sentence2 vowels count is {'a': 3, 'e': 0, 'i': 3, 'o': 0, 'u': 0}\n"
          ]
        }
      ],
      "source": [
        "import string\n",
        "import re\n",
        "\n",
        "string1=input(\"please enter sentence1:\\n\")\n",
        "string2=input(\"please enter sentence2:\\n\")\n",
        "\n",
        "sentence1 = re.findall(r\"[\\w']+|[.,!?;:]\",string1)\n",
        "print(\"sentence1 list is\",sentence1)\n",
        "\n",
        "sentence2 = re.findall(r\"[\\w']+|[.,!?;:]\",string2)\n",
        "print(\"sentence2 list is\",sentence2)\n",
        "\n",
        "print(\"words common in both sentences\",list(set(sentence1).intersection(sentence2)))\n",
        "\n",
        "string1_removepunc = string1.translate(str.maketrans('','', string.punctuation))\n",
        "string2_removepunc = string2.translate(str.maketrans('','', string.punctuation))\n",
        "\n",
        "print(\"sentence1 without punctuations: \",string1_removepunc)\n",
        "print(\"sentence2 without punctuations: \",string2_removepunc)\n",
        "\n",
        "vowelscount1 = {}\n",
        "vowelscount2 = {}\n",
        "\n",
        "for vowel in \"aeiou\":\n",
        "  vowelscount1[vowel] = string1.lower().count(vowel)\n",
        "  vowelscount2[vowel] = string2.lower().count(vowel)\n",
        "\n",
        "print('sentence1 vowels count is', vowelscount1)\n",
        "print('sentence2 vowels count is', vowelscount2)"
      ]
    },
    {
      "cell_type": "markdown",
      "metadata": {
        "id": "CmFoI4jDS9nx"
      },
      "source": [
        "# Question 3 \n",
        "\n",
        "(5 points). The formula that describes the volume V of a sphere with radius r is the following:\n",
        "\n",
        "$ V=\\frac{4}{3}\\ast\\ \\pi\\ast\\ r^3 $\n",
        "\n",
        "Write a program to calculate the value of V when r is in the range of 1–10. Output the result in the following format:\n",
        "\n",
        "\tr\tV\n",
        "\t1\t…\n",
        "\t2\t…\n",
        "\t3\t…\n"
      ]
    },
    {
      "cell_type": "code",
      "execution_count": 107,
      "metadata": {
        "id": "pEyqeioAT95b",
        "colab": {
          "base_uri": "https://localhost:8080/"
        },
        "outputId": "58c02cf4-82bf-4318-f4dc-3a206cbc6389"
      },
      "outputs": [
        {
          "output_type": "stream",
          "name": "stdout",
          "text": [
            "r    V\n",
            "1    4.1887902047863905\n",
            "2    33.510321638291124\n",
            "3    113.09733552923254\n",
            "4    268.082573106329\n",
            "5    523.5987755982989\n",
            "6    904.7786842338603\n",
            "7    1436.7550402417319\n",
            "8    2144.660584850632\n",
            "9    3053.6280592892786\n",
            "10    4188.790204786391\n"
          ]
        }
      ],
      "source": [
        "import numpy\n",
        "\n",
        "print(\"r    V\")\n",
        "for r in range(1,11):\n",
        "  V = 4/3 * numpy.pi * r**3\n",
        "  print(\"{}    {}\".format(r,V))"
      ]
    },
    {
      "cell_type": "markdown",
      "metadata": {
        "id": "z3tBE7E-Xn5X"
      },
      "source": [
        "# Question 4\n",
        "\n",
        "(20 points). In the field of Data Science, data is often formatted as a comma-delimited (CSV) file, where each line in a file corresponds to a field's value. Refer to Chapter 9 (p. 106) for more information on comma-delimited files. To answer this question, you will need to download the file [lab_assignment_02_denton_housing.csv](https://raw.githubusercontent.com/unt-iialab/info5502-spring2022/main/datasets/lab_assignment_02_denton_housing.csv) included with this assignment. The file [lab_assignment_02_denton_housing.csv](https://raw.githubusercontent.com/unt-iialab/info5502-spring2022/main/datasets/lab_assignment_02_denton_housing.csv) contains statistics about housing in the city of Denton from 2008 to 2014. Write a program to implement the following questions.\n",
        "\n",
        "(1) (10 pts) Calculate the difference in the number of Occupied Housing Units from year to year and print it. The difference must be calculated for the consecutive years such as 2008-2009, 2009-2010 etc. Finally, print the values in the ascending order.\n",
        "\n",
        "(2) (10 pts) For all the years, calculate the percentage of housing units which are vacant an occupied. Print the results in the following format:\n",
        "\n",
        "Year Vacant Housing Units Occupied Housing Units\n",
        "\n",
        "    2008  30%   70%                          \n",
        "\t2009 ----- -----\n",
        "\t2010 ----- -----\n",
        "    2011 ----- -----\n",
        "\t2012 ----- -----\n",
        "    2013 ----- -----\n",
        "\t2014 ----- -----\n",
        "  \n",
        "  \n",
        "\n",
        "(3) (10 pts) Calculate and print the valued and years in which the highest number of housing units were vacant and occupied. Print the results in the following format:  \n",
        "\n",
        "                              Year\tValue\n",
        "\tVacant Housing Units\t  -----   -----\n",
        "\tOccupied Housing Units\t-----   -----\n",
        "\n",
        "(4) (10 pts) Calculate the harmonic mean of the total housing units and print it out. You can find the information about harmonic mean here: https://ncalculators.com/statistics/harmonic-mean-calculator.htm"
      ]
    },
    {
      "cell_type": "code",
      "execution_count": 108,
      "metadata": {
        "id": "lqGYuHBhcsRH",
        "colab": {
          "base_uri": "https://localhost:8080/"
        },
        "outputId": "50172758-37bc-461f-8fa1-cff9308fd2a0"
      },
      "outputs": [
        {
          "output_type": "stream",
          "name": "stdout",
          "text": [
            "Differences in number of occupied units each year are  [795, -5091, 303, -1404, -1565, -2622]\n",
            "Sorted list of the above difference is  [-5091, -2622, -1565, -1404, 303, 795]\n",
            "-------------------------------------\n",
            "2008\t10.88265281351653%\t89.11734718648347% \n",
            "2009\t9.07111572444872%\t90.92888427555128% \n",
            "2010\t8.142556337081672%\t91.85744366291833% \n",
            "2011\t9.379522229890688%\t90.62047777010932% \n",
            "2012\t6.677600230491345%\t93.32239976950865% \n",
            "2013\t8.801787504176412%\t91.19821249582358% \n",
            "2014\t5.730110570363885%\t94.26988942963611% \n",
            "-------------------------------------\n",
            "                        Year\tValue\n",
            "Vacant Housing Units    2008\t4483\n",
            "Occupied Housing Units  2014\t46295\n",
            "-------------------------------------\n",
            "harmoic mean of total housing units is 44398.28543969185\n"
          ]
        }
      ],
      "source": [
        "import pandas\n",
        "import statistics\n",
        "from collections import OrderedDict\n",
        "\n",
        "#reading data from file\n",
        "data = pandas.read_csv(\"lab_assignment_02_denton_housing.csv\")\n",
        "\n",
        "# process data and get all values required for further processing\n",
        "occupiedHousingDict={}\n",
        "vacantHousingDict={}\n",
        "totalHousingUnits=[]\n",
        "for t in data.itertuples():\n",
        "  if(t[2]=='Occupied Housing Units'):\n",
        "    occupiedHousingDict.update({t[1]:t[3]})\n",
        "  if(t[2]=='Vacant Housing Units'):\n",
        "    vacantHousingDict.update({t[1]:t[3]})\n",
        "  if(t[2]=='Total Housing Units'):\n",
        "    totalHousingUnits.append(t[3])\n",
        "  \n",
        "\n",
        "#1)\n",
        "previousValue=int()\n",
        "occupiedHousingDifferenceList=[]\n",
        "for x in sorted(occupiedHousingDict.keys()):\n",
        "  if(bool(previousValue)):\n",
        "    occupiedHousingDifferenceList.append(previousValue-occupiedHousingDict[x])\n",
        "  previousValue=occupiedHousingDict[x]\n",
        "\n",
        "print('Differences in number of occupied units each year are ',occupiedHousingDifferenceList)\n",
        "occupiedHousingDifferenceList.sort()\n",
        "print('Sorted list of the above difference is ',occupiedHousingDifferenceList)\n",
        "\n",
        "#2\n",
        "print('-------------------------------------')\n",
        "for x in sorted(vacantHousingDict.keys()):\n",
        "  percentVacant= vacantHousingDict[x]*100/(vacantHousingDict[x]+occupiedHousingDict[x])\n",
        "  percentOccupied= occupiedHousingDict[x]*100/(vacantHousingDict[x]+occupiedHousingDict[x])\n",
        "  print(\"{}\\t{}%\\t{}% \".format(x,percentVacant,percentOccupied))\n",
        "\n",
        "#3\n",
        "def getKeyFromValue(dic1,value):\n",
        "  for k in dic1:\n",
        "    if(dic1[k]==value):\n",
        "      return k\n",
        "\n",
        "highestVacantHousingUnits=max(vacantHousingDict.values())\n",
        "highestOccupiedHousingUnits = max(occupiedHousingDict.values())\n",
        "\n",
        "print('-------------------------------------')\n",
        "print('                        Year\\tValue')\n",
        "print('Vacant Housing Units    {}\\t{}'.format(getKeyFromValue(vacantHousingDict,highestVacantHousingUnits),highestVacantHousingUnits))\n",
        "print('Occupied Housing Units  {}\\t{}'.format(getKeyFromValue(occupiedHousingDict,highestOccupiedHousingUnits),highestOccupiedHousingUnits))\n",
        "print('-------------------------------------')\n",
        "\n",
        "#4) Harmonic mean\n",
        "print('harmoic mean of total housing units is',statistics.harmonic_mean(totalHousingUnits))\n"
      ]
    }
  ],
  "metadata": {
    "colab": {
      "collapsed_sections": [],
      "name": "lab_assignment_02.ipynb",
      "provenance": [],
      "include_colab_link": true
    },
    "kernelspec": {
      "display_name": "Python 3",
      "language": "python",
      "name": "python3"
    },
    "language_info": {
      "codemirror_mode": {
        "name": "ipython",
        "version": 3
      },
      "file_extension": ".py",
      "mimetype": "text/x-python",
      "name": "python",
      "nbconvert_exporter": "python",
      "pygments_lexer": "ipython3",
      "version": "3.8.5"
    }
  },
  "nbformat": 4,
  "nbformat_minor": 0
}