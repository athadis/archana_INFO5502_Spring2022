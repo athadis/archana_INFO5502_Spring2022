{
  "cells": [
    {
      "cell_type": "markdown",
      "metadata": {
        "id": "view-in-github",
        "colab_type": "text"
      },
      "source": [
        "<a href=\"https://colab.research.google.com/github/athadis/archana_INFO5502_Spring2022/blob/main/in_class_excercises/lab_assignment_06.ipynb\" target=\"_parent\"><img src=\"https://colab.research.google.com/assets/colab-badge.svg\" alt=\"Open In Colab\"/></a>"
      ]
    },
    {
      "cell_type": "markdown",
      "metadata": {
        "id": "jKCl80YTxtpU"
      },
      "source": [
        "## The sixth Lab-assignment (03/24/2022, 50 points in total)"
      ]
    },
    {
      "cell_type": "markdown",
      "metadata": {
        "id": "EiSZvLx-xtpW"
      },
      "source": [
        "The purpose of this exercise is to build a simple predicition model which can helpyou understand the workflow of machine learning. "
      ]
    },
    {
      "cell_type": "markdown",
      "metadata": {
        "id": "rF78WQiextpY"
      },
      "source": [
        "### Task Decription "
      ]
    },
    {
      "cell_type": "markdown",
      "metadata": {
        "id": "PcB9VAEtxtpZ"
      },
      "source": [
        "The goal of this assignment is to predict bike share use, given the hour, day, and information about the weather. Companies like Divvy try to predict how much demand there will be for bikes on any given day to allocate resources to redistribute bikes so that, ideally, very few bike stations are ever full (when you can’t park your bike) or empty (when you can’t pick up a bike if you want to).\n",
        "\n",
        "The data (link: https://github.com/unt-iialab/info5502-spring2022/tree/main/datasets/lab_assignment_06) in Github provides detailed information on the data set and necessary downloads."
      ]
    },
    {
      "cell_type": "markdown",
      "metadata": {
        "id": "E6YP5eK7xtph"
      },
      "source": [
        "### Data Description"
      ]
    },
    {
      "cell_type": "markdown",
      "metadata": {
        "id": "muIFC46Cxtpi"
      },
      "source": [
        "You are provided hourly rental data spanning two years (link: https://github.com/unt-iialab/info5502-spring2022/tree/main/datasets/lab_assignment_06). For this task, the training set is comprised of the first 16 days of each month, while the test set is the 17-19th day of the month. You must predict the total count of bikes rented during each hour covered by the test set, using only information available prior to the rental period. That is, predict \"count\" without using \"count\" or its components \"casual\" and \"registered\".\n",
        "\n",
        "Data Fields\n",
        "\n",
        "datetime - hourly date + timestamp\n",
        "\n",
        "season - 1 = spring, 2 = summer, 3 = fall, 4 = winter\n",
        "\n",
        "holiday - whether the day is considered a holiday\n",
        "\n",
        "workingday - whether the day is neither a weekend nor holiday\n",
        "\n",
        "weather -\n",
        "\n",
        "1 - Clear, Few clouds, Partly cloudy, Partly cloudy\n",
        "\n",
        "2 - Mist + Cloudy, Mist + Broken clouds, Mist + Few clouds, Mist\n",
        "\n",
        "3 - Light Snow, Light Rain + Thunderstorm + Scattered clouds, Light Rain + Scattered clouds\n",
        "\n",
        "4 - Heavy Rain + Ice Pallets + Thunderstorm + Mist, Snow + Fog\n",
        "\n",
        "temp - temperature in Celsius\n",
        "\n",
        "atemp - \"feels like\" temperature in Celsius\n",
        "\n",
        "humidity - relative humidity\n",
        "\n",
        "windspeed - wind speed\n",
        "\n",
        "casual - number of non-registered user rentals initiated\n",
        "\n",
        "registered - number of registered user rentals initiated\n",
        "\n",
        "count - number of total rentals"
      ]
    },
    {
      "cell_type": "markdown",
      "metadata": {
        "id": "Uy4TYtfhxtpi"
      },
      "source": [
        "### Output"
      ]
    },
    {
      "cell_type": "markdown",
      "metadata": {
        "id": "x1MUKxcBxtpj"
      },
      "source": [
        "Submission Format\n",
        "\n",
        "Your output (a separate file) must have a header line and should be structured in the following format:\n",
        "\n",
        " datetime,count\n",
        " \n",
        " 2011-01-20 00:00:00,0 \n",
        " \n",
        " 2011-01-20 01:00:00,0\n",
        " \n",
        " 2011-01-20 02:00:00,0\n",
        " \n",
        " ...\n",
        " \n",
        "The tutorial code should demonstrate how to generate such a file from a very simple prediction model. Note, these prediction are to be done on the test file under the data tab, where you do not know the actual count, and should match the rows of the test file in count and order.\n",
        "\n",
        "Your predictions should be compared to the ground truth information (sample_prediction.csv). Score are calculated using Root Mean Squared Error (RMSE)."
      ]
    },
    {
      "cell_type": "markdown",
      "metadata": {
        "id": "ZOL3xEsjxtpj"
      },
      "source": [
        "### Tips"
      ]
    },
    {
      "cell_type": "markdown",
      "metadata": {
        "id": "x3ecvmTwxtpk"
      },
      "source": [
        "●\tAdd features: Pick columns/features from the data you already have. Or make a new feature from the ones you have. For example, the tutorial makes ‘hour’ from the datetime stamp, which seemed very useful. How about ‘month’?\n",
        "\n",
        "●\tModel selection: Try different models. Make sure they are regression models rather than classification models. Tip: random forest regression is a good, all around modeling strategy on complicated data sets.\n",
        "\n",
        "●\tModel tuning: Almost all regression models have parameters to tune (“hyperparameters”). E.g. polynomial regression has the degree of the polynomial (n = 1 for a line, n=2 for a quadratic fit, n=3 for a cubic fit…). Generally, one extreme makes the model too simple (e.g. a line for a curved set of points) and the other extreme makes the model overfit/be too complex, and usually the right choice is in between. For some models it is obvious what to tune (e.g. k for k nearest neighbors regression) and some don’t need much tuning with defaults that often work well. e.g. try changing the number of trees used in the random forest model!\n",
        "\n",
        "●\tCross validation: The tutorial has a simple way of separating training and test data, however, there are better ways of splitting training and test data. Look into cross validation techniques, which are more reliable than an arbitrary split of training and test data.\n",
        "\n",
        "●\tSeparate models for ...: Notice that count comes from just adding casual riders and registered riders. However, what if these two types of riders acted very differently? It might make sense to make two separate models and just add the results of both models together. This is also true for any subsets of your data that may behave wildly differently (e.g. create a separate model for each season?)"
      ]
    },
    {
      "cell_type": "markdown",
      "metadata": {
        "id": "7yiu6-wFxtpl"
      },
      "source": [
        "### Your code"
      ]
    },
    {
      "cell_type": "code",
      "execution_count": 12,
      "metadata": {
        "id": "TSpymxjTxtpl",
        "colab": {
          "base_uri": "https://localhost:8080/",
          "height": 989
        },
        "outputId": "6540011a-46b0-4147-e6d3-8563567d3d5d"
      },
      "outputs": [
        {
          "output_type": "stream",
          "name": "stdout",
          "text": [
            "hours : [ 0  1  2  3  4  5  6  7  8  9 10 11 12 13 14 15 16 17 18 19 20 21 22 23]\n",
            "months : [ 1  2  3  4  5  6  7  8  9 10 11 12]\n"
          ]
        },
        {
          "output_type": "display_data",
          "data": {
            "text/plain": [
              "<Figure size 432x288 with 1 Axes>"
            ],
            "image/png": "[encoded data removed]"
          },
          "metadata": {
            "needs_background": "light"
          }
        },
        {
          "output_type": "display_data",
          "data": {
            "text/plain": [
              "<Figure size 432x288 with 1 Axes>"
            ],
            "image/png": "[encoded data removed]"
          },
          "metadata": {
            "needs_background": "light"
          }
        },
        {
          "output_type": "stream",
          "name": "stdout",
          "text": [
            "Features selected for later: ['hour', 'month', 'holiday', 'workingday', 'humidity', 'season', 'weather', 'atemp']\n",
            "Model used is : RandomForestRegressor()\n",
            "\n",
            "Model Score for Fold 1 is: 0.9807018284140882\n",
            "Root mean square error for Fold 1 is : 110.00384182995187\n",
            "\n",
            "Model Score for Fold 2 is: 0.9832777019945698\n",
            "Root mean square error for Fold 2 is : 117.1314164597045\n",
            "\n",
            "Model Score for Fold 3 is: 0.9809308794530899\n",
            "Root mean square error for Fold 3 is : 104.94242292612242\n",
            "\n",
            "Model Score for Fold 4 is: 0.9791294952369811\n",
            "Root mean square error for Fold 4 is : 123.44059983159663\n",
            "\n",
            "Model Score for Fold 5 is: 0.9796528397432304\n",
            "Root mean square error for Fold 5 is : 124.95247944631173\n",
            "\n",
            "\n",
            "Number of samples are : 1712 . Number of features are: 9 \n",
            "\n",
            "Predicted the counts and saved as my_prediction.csv\n"
          ]
        }
      ],
      "source": [
        "import pandas\n",
        "import numpy\n",
        "import matplotlib.pyplot as plt\n",
        "from datetime import datetime\n",
        "from sklearn.model_selection import KFold\n",
        "from sklearn.ensemble import RandomForestRegressor\n",
        "from sklearn.metrics import mean_squared_error\n",
        "from sklearn.preprocessing import StandardScaler\n",
        "\n",
        "train_data_frame=pandas.read_csv(\"train_luc.csv\");\n",
        "train_data_frame.describe()\n",
        "\n",
        "def month_of_year(dt):\n",
        "    return datetime.strptime(dt,\"%Y-%m-%d %H:%M:%S\").month\n",
        "\n",
        "def hour_of_day(dt):\n",
        "    return datetime.strptime(dt, \"%Y-%m-%d %H:%M:%S\").time().hour\n",
        "\n",
        "train_data_frame['hour'] = train_data_frame['datetime'].map(hour_of_day)\n",
        "train_data_frame['month'] = train_data_frame['datetime'].map(month_of_year)\n",
        "train_data_frame.head()\n",
        "\n",
        "hours = numpy.unique(train_data_frame['hour'])\n",
        "print(\"hours :\",hours)\n",
        "\n",
        "hours_mean = {}\n",
        "for h in hours:\n",
        "    temp_data = train_data_frame.loc[train_data_frame['hour'] == h]\n",
        "    hours_mean[h] = temp_data['count'].mean()\n",
        "\n",
        "months = numpy.unique(train_data_frame['month'])\n",
        "print(\"months :\", months)\n",
        "\n",
        "months_mean = {}\n",
        "for m in months:\n",
        "    temp_data = train_data_frame.loc[train_data_frame['month'] == m]\n",
        "    months_mean[m] = temp_data['count'].mean()\n",
        "\n",
        "# plot the results hourly, monthly to get an idea. We might see peaks in the rush hours or summer months\n",
        "plt.bar(hours,[hours_mean[h] for h in hours])\n",
        "plt.title(\"Hourly bike usage over 2 years\")\n",
        "plt.ylabel(\"Average number of bikes used\")\n",
        "plt.xlabel(\"hour\")\n",
        "plt.show()\n",
        "\n",
        "plt.bar(months, [months_mean[m] for m in months])\n",
        "plt.title(\"Monthly bike usage over 2 years\")\n",
        "plt.ylabel(\"Average number of bikes used\")\n",
        "plt.xlabel(\"month\")\n",
        "plt.show()\n",
        "\n",
        "# Feature selection - Selecting weather,atemp(feels like), hour, month, season since they can impact bike riding\n",
        "cols = ['hour','month','holiday','workingday','humidity','season','weather','atemp']\n",
        "\n",
        "# Model Selection - using RandomForest regressor\n",
        "model = RandomForestRegressor(n_estimators = 100)\n",
        "\n",
        "print(\"Features selected for later:\",cols)\n",
        "print(\"Model used is : {0}\\n\".format(model))\n",
        "\n",
        "#Model tuning and Cross validation - using KFolds where K=5 which splits data into K-1 folds for training and 1 fold for testing\n",
        "k_fold=KFold(5)\n",
        "counter=1;\n",
        "\n",
        "for result in k_fold.split(train_data_frame):\n",
        "  # converting split datasets into dataframes\n",
        "  new_train= train_data_frame.iloc[result[0]]\n",
        "  new_test = train_data_frame.iloc[result[1]]\n",
        "\n",
        "  y_train=new_train['count']\n",
        "  x_train=new_train[cols]\n",
        "\n",
        "  y_test=new_test['count']\n",
        "  x_test=new_test[cols]\n",
        "\n",
        "  model.fit(x_train, y_train)\n",
        "  print(\"Model Score for Fold {0} is: {1}\".format(counter,model.score(x_train, y_train)))\n",
        "\n",
        "  y_pred = model.predict(x_test)\n",
        "\n",
        "  # squared = False returns RMSE\n",
        "  root_mean_square = mean_squared_error(y_test,y_pred,squared=False)\n",
        "  print(\"Root mean square error for Fold {0} is : {1}\\n\".format(counter,root_mean_square))\n",
        "  counter+=1\n",
        "\n",
        "test_data_frame = pandas.read_csv('test_luc.csv', header=0)\n",
        "print(\"\\nNumber of samples are :\",test_data_frame.shape[0] ,\". Number of features are:\",test_data_frame.shape[1],\"\\n\")\n",
        "\n",
        "test_data_frame['hour'] = test_data_frame['datetime'].map(hour_of_day)\n",
        "test_data_frame['month'] = test_data_frame['datetime'].map(month_of_year)\n",
        "\n",
        "test_data_frame.head()\n",
        "\n",
        "model.fit(train_data_frame[cols], train_data_frame['count'])\n",
        "\n",
        "pred_count = model.predict(test_data_frame[cols])\n",
        "\n",
        "test_data_frame['count'] = pred_count\n",
        "\n",
        "test_data_frame[['datetime','count']].to_csv('my_prediction.csv', \n",
        "    index=False, header=True)\n",
        "print(\"Predicted the counts and saved as my_prediction.csv\")\n"
      ]
    }
  ],
  "metadata": {
    "kernelspec": {
      "display_name": "Python 3",
      "language": "python",
      "name": "python3"
    },
    "language_info": {
      "codemirror_mode": {
        "name": "ipython",
        "version": 3
      },
      "file_extension": ".py",
      "mimetype": "text/x-python",
      "name": "python",
      "nbconvert_exporter": "python",
      "pygments_lexer": "ipython3",
      "version": "3.8.5"
    },
    "colab": {
      "name": "lab_assignment_06.ipynb",
      "provenance": [],
      "collapsed_sections": [],
      "include_colab_link": true
    }
  },
  "nbformat": 4,
  "nbformat_minor": 0
}