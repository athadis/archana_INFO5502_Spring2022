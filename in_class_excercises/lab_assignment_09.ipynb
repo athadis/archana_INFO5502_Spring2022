{
  "cells": [
    {
      "cell_type": "markdown",
      "metadata": {
        "id": "view-in-github",
        "colab_type": "text"
      },
      "source": [
        "<a href=\"https://colab.research.google.com/github/athadis/archana_INFO5502_Spring2022/blob/main/in_class_excercises/lab_assignment_09.ipynb\" target=\"_parent\"><img src=\"https://colab.research.google.com/assets/colab-badge.svg\" alt=\"Open In Colab\"/></a>"
      ]
    },
    {
      "cell_type": "markdown",
      "metadata": {
        "id": "CQhCCUpYWNae"
      },
      "source": [
        "## The ninth Lab-assignment (04/14/2022, 50 points in total)"
      ]
    },
    {
      "cell_type": "markdown",
      "metadata": {
        "id": "6sf-pWPPWNag"
      },
      "source": [
        "The purpose of this assignment is to practice different Hypothesis Testing."
      ]
    },
    {
      "cell_type": "markdown",
      "metadata": {
        "id": "5d8gVDxjWNag"
      },
      "source": [
        "### Question 1 (15 points) \n",
        "\n",
        "During the 1980s, the general consensus is that about 5% of the nation’s children had autism. Some claimed that increases certain chemicals in the environment has led to an increase in autism. \n",
        "\n",
        "(1) Write an appropriate hypothesis test for this situation (5 points).  \n",
        "\n",
        "(2) Give an appropriate test for this hypothesis, stating what are the necessary conditions for performing the test (5 points). \n",
        "\n",
        "(3) A recent study examined 384 children and found that 46 showed signs of autism. Perform a test of the hypothesis and state the p-value (5 points). "
      ]
    },
    {
      "cell_type": "code",
      "execution_count": null,
      "metadata": {
        "id": "eEyVZG93WNah",
        "colab": {
          "base_uri": "https://localhost:8080/",
          "height": 71
        },
        "outputId": "1aa9d7a5-9d02-4835-85aa-a6398e09520f"
      },
      "outputs": [
        {
          "output_type": "stream",
          "name": "stdout",
          "text": [
            "The zStat and Pvalue for the test are  -18.45774987976138 4.517740927517284e-76\n"
          ]
        },
        {
          "output_type": "execute_result",
          "data": {
            "text/plain": [
              "\"Since p value observed from the above is less than 0.05, null hypothesis is rejected and we go with alternate hypothesis\\n   Hence during 1980s, more than 5% of nation's children had autism\\n  \\n\""
            ],
            "application/vnd.google.colaboratory.intrinsic+json": {
              "type": "string"
            }
          },
          "metadata": {},
          "execution_count": 26
        }
      ],
      "source": [
        "# You answer here\n",
        "from statsmodels.stats.proportion import proportions_ztest\n",
        "'''\n",
        "1) H_0 (null hypothesis):During 1980s, 5% of nations children had autism\n",
        "H_1 (alternate hypothesis) : During 1980s, more than 5% of nations children had autism\n",
        "\n",
        "2) Considering Z-test here.\n",
        "    The necessary conditions for this test are \n",
        "      - We have more than 30 data points, \n",
        "      - Data is selected randomly\n",
        "3) Since 46 had autism out of 384 probability= 46/384= 0.1198\n",
        "'''\n",
        "\n",
        "zStat, pvalue=proportions_ztest(5, 384, value=0.1198)\n",
        "\n",
        "print(\"The zStat and Pvalue for the test are \", zStat, pvalue)\n",
        "\n",
        "\"\"\"Since p value observed from the above is less than 0.05, null hypothesis is rejected and we go with alternate hypothesis\n",
        "   Hence during 1980s, more than 5% of nation's children had autism\n",
        "  \n",
        "\"\"\""
      ]
    },
    {
      "cell_type": "markdown",
      "metadata": {
        "id": "oTB-q21BWNaj"
      },
      "source": [
        "### Question 2 (15 points) \n",
        "\n",
        "National data in the 1960s showed that about 44% of the adult population had never smoked. \n",
        "\n",
        "(1) State a null and alternative hypothesis to test that the fraction of the 1995 population of adults that had never smoked had increased (5 points).  \n",
        "\n",
        "(2) A national random sample of 891 adults were interviewed and 463 stated that they had never smoked. Perform a z-test of the hypothesis and give an approriate p-value (5 points). \n",
        "\n",
        "(3) Create a 98% confidence interval for the proportion of adults who had never been smokers (5 points). "
      ]
    },
    {
      "cell_type": "code",
      "execution_count": null,
      "metadata": {
        "id": "YH5FY5vvWNaj",
        "colab": {
          "base_uri": "https://localhost:8080/",
          "height": 53
        },
        "outputId": "0e4fa42e-54a0-49bf-9533-efa16250bc4e"
      },
      "outputs": [
        {
          "output_type": "execute_result",
          "data": {
            "text/plain": [
              "'\\n1) H_0: (null hypothesis) : In 1960s, 44 % of the adult population never smoked\\n   H_1: (alternate hypothesis): In 1960s, more than 44 % of the adult population never smoked\\n'"
            ],
            "application/vnd.google.colaboratory.intrinsic+json": {
              "type": "string"
            }
          },
          "metadata": {},
          "execution_count": 25
        }
      ],
      "source": [
        "# You answer here\n",
        "\n",
        "'''\n",
        "1) H_0: (null hypothesis) : In 1960s, 44 % of the adult population never smoked\n",
        "   H_1: (alternate hypothesis): In 1960s, more than 44 % of the adult population never smoked\n",
        "'''"
      ]
    },
    {
      "cell_type": "code",
      "execution_count": 31,
      "metadata": {
        "id": "4bVlsN3YWNak",
        "colab": {
          "base_uri": "https://localhost:8080/"
        },
        "outputId": "f72455c5-113b-4c17-8aba-8b7ebd8b4168"
      },
      "outputs": [
        {
          "output_type": "stream",
          "name": "stdout",
          "text": [
            "zStat value is -64.78654671444527 and pvalue is 0.0\n",
            "The 98 % confidence interval for proportion of adults who never smoked are\n",
            " (-1.8109042226568945, 2.850185928605267)\n"
          ]
        }
      ],
      "source": [
        "# your code here\n",
        "from statsmodels.stats.proportion import proportions_ztest\n",
        "import numpy as np\n",
        "import scipy.stats as st\n",
        "\n",
        "number_samples = 891\n",
        "\n",
        "zstat, pvalue=proportions_ztest(count = 44, value = float(463/891), nobs = number_samples)\n",
        "print(\"zStat value is {} and pvalue is {}\".format(zstat,pvalue))\n",
        "\n",
        "\"\"\"\n",
        "Since pvalue is 0 we reject the null hypothesis.\n",
        "Hence we state that In 1960s, more than 44 % of the adult population never smoked\n",
        "\"\"\"\n",
        "\n",
        "# create 98 % confidence interval\n",
        "number_samples = 891\n",
        "print(\"The 98 % confidence interval for proportion of adults who never smoked are\\n\", st.t.interval(alpha=0.98,\n",
        "              df = number_samples-1,\n",
        "              loc = float(463/891)))"
      ]
    },
    {
      "cell_type": "markdown",
      "metadata": {
        "id": "XyHzbbQ8WNak"
      },
      "source": [
        "### Question 3 (15 points) \n",
        "In this problem,we will examine the sugar content of several national brands of cereals, here measured as a percentage of weight.\n",
        "\n",
        "\n",
        "(1) Give a summary of these two datasets (5 points). \n",
        "\n",
        "(2) Create side-by-side boxplots and interpret what you see (5 points). \n",
        "\n",
        "(3) Use python to create a 95% confidence interval for the difference in mean sugar content and explain your result (5 points). "
      ]
    },
    {
      "cell_type": "code",
      "execution_count": null,
      "metadata": {
        "id": "p_6y-vE2WNak",
        "colab": {
          "base_uri": "https://localhost:8080/",
          "height": 420
        },
        "outputId": "0301d847-dfaf-464b-f736-ccbacf8e29eb"
      },
      "outputs": [
        {
          "output_type": "stream",
          "name": "stdout",
          "text": [
            "Summary of Children dataset:\n",
            " Mean is 46.800000000000004.\n",
            " StandardDeviation is 6.24718884147523\n",
            "\n",
            "Summary of Adult dataset:\n",
            " Mean is 10.168965517241379.\n",
            " StandardDeviation is 7.345658039501546\n",
            "\n"
          ]
        },
        {
          "output_type": "display_data",
          "data": {
            "text/plain": [
              "<Figure size 432x288 with 2 Axes>"
            ],
            "image/png": "[encoded data removed]"
          },
          "metadata": {
            "needs_background": "light"
          }
        }
      ],
      "source": [
        "# You code here\n",
        "import numpy as np\n",
        "import matplotlib.pyplot as plt\n",
        "\n",
        "#1)\n",
        "children=[40.3,55.0,45.7,43.3,50.3,45.9,53.5,43.0,44.2,44.0,33.6,55.1,48.8,50.4,37.8,60.3,46.6,47.4,44.0]\n",
        "adult=[20.0,30.2,2.2,7.5,4.4,22.2,16.6,14.5,21.4,3.3,10.0,1.0,4.4,1.3,8.1,6.6,7.8,10.6,10.6,16.2,14.5,4.1,15.8,4.1,2.4,3.5,8.5,4.7,18.4]\n",
        "\n",
        "print(\"Summary of Children dataset:\\n Mean is {}.\\n StandardDeviation is {}\\n\".format(np.mean(children),np.std(children)))\n",
        "print(\"Summary of Adult dataset:\\n Mean is {}.\\n StandardDeviation is {}\\n\".format(np.mean(adult),np.std(adult)))\n",
        "\n",
        "#2)\n",
        "plt.subplot(1,2,1)\n",
        "plt.boxplot(children)\n",
        "plt.title(\"Children dataset\")\n",
        "\n",
        "plt.subplot(1,2,2)\n",
        "plt.boxplot(adult)\n",
        "plt.title(\"Adult dataset\")\n",
        "plt.show()\n"
      ]
    },
    {
      "cell_type": "code",
      "execution_count": null,
      "metadata": {
        "id": "TTid4H32WNal",
        "colab": {
          "base_uri": "https://localhost:8080/"
        },
        "outputId": "71504bef-8161-4294-d2a7-fa10625027d4"
      },
      "outputs": [
        {
          "output_type": "stream",
          "name": "stdout",
          "text": [
            "95% confidence interval mean sugar content in children dataset is  (43.706441602172454, 49.893558397827555)\n",
            "95% confidence interval mean sugar content in adult dataset is  (7.32536900717368, 13.012562027309077)\n"
          ]
        }
      ],
      "source": [
        "# your answer here\n",
        "import scipy.stats as st\n",
        "\n",
        "\"\"\"2) From the above box plots we see that there are outliers in children dataset whereas there are no outliers for adult dataset. \n",
        "The box plot also shows mean which is represented as a yellow line inside the box\n",
        "\"\"\"\n",
        "\n",
        "#3\n",
        "print(\"95% confidence interval mean sugar content in children dataset is \",st.t.interval(alpha=0.95, df=len(children)-1, loc=np.mean(children), scale=st.sem(children)))\n",
        "print(\"95% confidence interval mean sugar content in adult dataset is \",st.t.interval(alpha=0.95, df=len(adult)-1, loc=np.mean(adult), scale=st.sem(adult)))\n"
      ]
    },
    {
      "cell_type": "markdown",
      "metadata": {
        "id": "qn0FD2W5WNal"
      },
      "source": [
        "### Question 4 (15 points, with 10 extra point included) A/B Testing"
      ]
    },
    {
      "cell_type": "markdown",
      "metadata": {
        "id": "C6Gk7JCeWNam"
      },
      "source": [
        "Punishment for crime has many [philosophical justifications](http://plato.stanford.edu/entries/punishment/#ThePun).  An important one is that fear of punishment may *deter* people from committing crimes.\n",
        "\n",
        "In the United States, some jurisdictions execute people who are convicted of particularly serious crimes, such as murder.  This punishment is called the *death penalty* or *capital punishment*.  The death penalty is controversial, and deterrence has been one focal point of the debate.  There are other reasons to support or oppose the death penalty, but in this project we'll focus on deterrence.\n",
        "\n",
        "The key question about deterrence is:\n",
        "\n",
        "> Through our exploration, does instituting a death penalty for murder actually reduce the number of murders?\n",
        "\n",
        "You might have a strong intuition in one direction, but the evidence turns out to be surprisingly complex.  Different sides have variously argued that the death penalty has no deterrent effect and that each execution prevents 8 murders, all using statistical arguments!  We'll try to come to our own conclusion.\n",
        "\n",
        "#### The data\n",
        "\n",
        "The main data source for this lab comes from a [paper](http://cjlf.org/deathpenalty/DezRubShepDeterFinal.pdf) by three researchers, Dezhbakhsh, Rubin, and Shepherd.  The dataset contains rates of various violent crimes for every year 1960-2003 (44 years) in every US state.  The researchers compiled the data from the FBI's Uniform Crime Reports.\n",
        "\n",
        "Since crimes are committed by people, not states, we need to account for the number of people in each state when we're looking at state-level data.  Murder rates are calculated as follows:\n",
        "\n",
        "$$\\text{murder rate for state X in year Y} = \\frac{\\text{number of murders in state X in year Y}}{\\text{population in state X in year Y}}*100000$$\n",
        "\n",
        "(Murder is rare, so we multiply by 100,000 just to avoid dealing with tiny numbers.)\n",
        "\n",
        "Murder rates vary over time, and different states exhibit different trends. The rates in some states change dramatically from year to year, while others are quite stable. Let's plot a couple, just to see the variety.\n",
        "\n",
        "*Hint*: To create two lines, you will need create the table `ak_mn` with two columns of murder rates, in addition to a column of years. This table will have the following structure:\n",
        "\n",
        "| Year | Murder rate in Alaska | Murder rate in Minnesota |\n",
        "|------|-----------------------|--------------------------|\n",
        "| 1960 | 10.2                  | 1.2                      |\n",
        "| 1961 | 11.5                  | 1                        |\n",
        "| 1962 | 4.5                   | 0.9                      |\n",
        "\n",
        "<center>... (41 rows omitted)</center>\n",
        "\n",
        "Some US states have the death penalty, and others don't, and laws have changed over time. In addition to changes in murder rates, we will also consider whether the death penalty was in force in each state and each year.\n",
        "\n",
        "Using this information, we would like to investigate how the presence of the death penalty affects the murder rate of a state."
      ]
    },
    {
      "cell_type": "markdown",
      "metadata": {
        "id": "d6PNtGrlWNan"
      },
      "source": [
        "(1) Use preban_rates_copy and postban_rates to create a table change_in_death_rates that contains each state's population, murder rate, and whether or not that state had the death penalty for both 1971 and 1973. (5 points)\n",
        "\n",
        "Create a table rate_means that contains the average murder rates for the states that had the death penalty and the states that didn't have the death penalty. It should have two columns: one indicating if the penalty was in place, and one that contains the average murder rate for each group.\n",
        "\n",
        "Hint: tbl_1.append(tbl_2) with create a new table that includes rows from both tbl_1 and tbl_2. Both tables must have the exactly the same columns, in the same order.\n",
        "\n",
        "(2) We want to figure out if there is a difference between the distribution of death rates in 1971 and 1973. Specifically, we want to test if murder rates were higher in 1973 than they were in 1971. You are required to conduct A/B Testing below (10 points):\n",
        "\n",
        "(2-1) Set observed_difference to the observed test statistic using the rate_means table. \n",
        "\n",
        "\n",
        "(2-2) Given a table like change_in_death_rates, a value column label, and a group column group_label, write a function that calculates the appropriate test statistic.\n",
        "\n",
        "(2-3) Write a function simulate_and_test_statistic to compute one trial of our A/B test. Your function should run a simulation and return a test statistic.\n",
        "\n",
        "(2-4) Simulate 5000 trials of our A/B test and store the test statistics in an array called differences.\n",
        "\n",
        "(2-5) Find the p-value for your test and assign it to empirical_P.\n",
        "\n",
        "(2-6) Using a 5% P-value cutoff, draw a conclusion about the null and alternative hypotheses. Describe your findings using simple, non-technical language. What does your analysis tell you about murder rates after the death penalty was suspended? What can you claim about causation from your statistical analysis?\n"
      ]
    },
    {
      "cell_type": "code",
      "execution_count": null,
      "metadata": {
        "id": "FygQtBEeWNan",
        "colab": {
          "base_uri": "https://localhost:8080/"
        },
        "outputId": "2f4c7e5e-e8c9-43e4-b1c2-e38e18fee463"
      },
      "outputs": [
        {
          "output_type": "stream",
          "name": "stdout",
          "text": [
            "    Year  Murder rate in Alaska  Murder rate in Minnesota\n",
            "0   1960                   10.2                       1.2\n",
            "1   1961                   11.5                       1.0\n",
            "2   1962                    4.5                       0.9\n",
            "3   1963                    6.5                       1.2\n",
            "4   1964                   10.4                       1.4\n",
            "5   1965                    6.3                       1.4\n",
            "6   1966                   12.9                       2.2\n",
            "7   1967                    9.6                       1.6\n",
            "8   1968                   10.5                       2.2\n",
            "9   1969                   10.6                       1.9\n",
            "10  1970                   12.2                       2.0\n",
            "11  1971                   13.4                       2.4\n",
            "12  1972                    9.5                       2.4\n",
            "13  1973                   10.0                       2.7\n",
            "14  1974                   13.6                       3.0\n",
            "15  1975                   12.2                       3.3\n",
            "16  1976                   11.3                       2.3\n",
            "17  1977                   10.8                       2.7\n",
            "18  1978                   12.9                       2.0\n",
            "19  1979                   13.3                       2.3\n",
            "20  1980                    8.9                       2.6\n",
            "21  1981                   14.6                       2.1\n",
            "22  1982                   18.5                       2.3\n",
            "23  1983                   13.8                       1.7\n",
            "24  1984                   11.6                       1.8\n",
            "25  1985                    9.8                       2.1\n",
            "26  1986                    8.6                       2.5\n",
            "27  1987                   10.1                       2.6\n",
            "28  1988                    5.7                       2.9\n",
            "29  1989                    8.0                       2.5\n",
            "30  1990                    7.5                       2.7\n",
            "31  1991                    7.4                       3.0\n",
            "32  1992                    7.5                       3.3\n",
            "33  1993                    9.0                       3.4\n",
            "34  1994                    6.3                       3.2\n",
            "35  1995                    9.1                       3.9\n",
            "36  1996                    7.4                       3.6\n",
            "37  1997                    8.9                       2.8\n",
            "38  1998                    6.7                       2.6\n",
            "39  1999                    8.4                       2.8\n",
            "40  2000                    4.3                       3.1\n",
            "41  2001                    6.1                       2.4\n",
            "42  2002                    5.1                       2.2\n",
            "43  2003                    6.0                       2.5\n"
          ]
        }
      ],
      "source": [
        "# You answer here\n",
        "import pandas as pd\n",
        "\n",
        "crime_rates=pd.read_csv(\"crime_rates.csv\")\n",
        "\n",
        "#filtering all Alaska data into new dataframe\n",
        "new_dataFrame = crime_rates[(crime_rates['State'] == 'Alaska')][['Year', 'Murder Rate']]\n",
        "new_dataFrame.columns = ['Year', 'Murder rate in Alaska'] # renaming columsn to match the required format\n",
        "\n",
        "# extracting minnesota data for each year into the above df\n",
        "dt = {}\n",
        "for year in (list(set(list(crime_rates['Year'].values)))):\n",
        "    if crime_rates[(crime_rates['Year'] == year) & (crime_rates['State'] == 'Minnesota')].shape[0] > 0:\n",
        "        dt[year] = crime_rates[(crime_rates['Year'] == year) & (crime_rates['State'] == 'Minnesota')]['Murder Rate'].values[0]\n",
        "    else:\n",
        "        dt[year] = 0\n",
        "        \n",
        "new_dataFrame['Murder rate in Minnesota'] = dt.values()\n",
        "\n",
        "print(new_dataFrame)"
      ]
    },
    {
      "cell_type": "code",
      "execution_count": null,
      "metadata": {
        "id": "blL8FdN3WNao"
      },
      "outputs": [],
      "source": [
        "# You code here\n",
        "\n"
      ]
    }
  ],
  "metadata": {
    "kernelspec": {
      "display_name": "Python 3",
      "language": "python",
      "name": "python3"
    },
    "language_info": {
      "codemirror_mode": {
        "name": "ipython",
        "version": 3
      },
      "file_extension": ".py",
      "mimetype": "text/x-python",
      "name": "python",
      "nbconvert_exporter": "python",
      "pygments_lexer": "ipython3",
      "version": "3.8.5"
    },
    "colab": {
      "name": "lab_assignment_09.ipynb",
      "provenance": [],
      "collapsed_sections": [],
      "include_colab_link": true
    }
  },
  "nbformat": 4,
  "nbformat_minor": 0
}